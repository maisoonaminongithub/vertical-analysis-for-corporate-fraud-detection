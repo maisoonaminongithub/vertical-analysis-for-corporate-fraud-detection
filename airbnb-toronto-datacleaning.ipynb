{
 "cells": [
  {
   "cell_type": "markdown",
   "id": "b5333782",
   "metadata": {
    "_cell_guid": "b1076dfc-b9ad-4769-8c92-a6c4dae69d19",
    "_uuid": "8f2839f25d086af736a60e9eeb907d3b93b6e0e5",
    "papermill": {
     "duration": 0.004785,
     "end_time": "2024-04-30T23:21:15.393526",
     "exception": false,
     "start_time": "2024-04-30T23:21:15.388741",
     "status": "completed"
    },
    "tags": []
   },
   "source": [
    "# Cleaning AirBnB data using python for SQL project\n",
    "\n",
    "Author: S M Maisoon Ul Amin\n",
    "\n",
    "Codebase: https://github.com/maisoonaminongithub\n",
    "\n",
    "Portfolio: www.maisoonamin.com\n",
    "\n",
    "## Key takeways \n",
    "\n",
    "1. I have downloaded scapped dataset from a service called https://insideairbnb.com/get-the-data The dataset contains data for toronto airbnb, February 2024.\n",
    "2. Many columns have missing values, particularly in textual descriptions and detailed host information. Some numerical fields like host response rate are stored as strings and might need conversion for analysis.\n",
    "3. \n",
    "\n",
    "## About dataset\n",
    "The dataset consists of 20,630 entries and 75 columns, capturing various aspects of Airbnb listings. Here's a summary of the key points:\n",
    "\n",
    "1. Basic Information: Each listing has an ID, a URL, and details such as the name, description, and photos.\n",
    "2. Host Information: Data on hosts includes IDs, names, response times, superhost status, and the number of listings they have.\n",
    "3. Location Details: Includes URLs to neighborhood overviews and specific location data, although many of these fields have missing values.\n",
    "4. Availability and Booking: Information on price, minimum and maximum nights for bookings, and availability over different time spans.\n",
    "5. Review Scores: Various metrics on reviews, such as accuracy, cleanliness, and overall rating.\n"
   ]
  },
  {
   "cell_type": "markdown",
   "id": "2253c046",
   "metadata": {
    "papermill": {
     "duration": 0.003731,
     "end_time": "2024-04-30T23:21:15.401874",
     "exception": false,
     "start_time": "2024-04-30T23:21:15.398143",
     "status": "completed"
    },
    "tags": []
   },
   "source": [
    "## Loading the dataset"
   ]
  },
  {
   "cell_type": "code",
   "execution_count": 1,
   "id": "2ff73fad",
   "metadata": {
    "execution": {
     "iopub.execute_input": "2024-04-30T23:21:15.411753Z",
     "iopub.status.busy": "2024-04-30T23:21:15.411063Z",
     "iopub.status.idle": "2024-04-30T23:21:17.791667Z",
     "shell.execute_reply": "2024-04-30T23:21:17.790682Z"
    },
    "papermill": {
     "duration": 2.388683,
     "end_time": "2024-04-30T23:21:17.794431",
     "exception": false,
     "start_time": "2024-04-30T23:21:15.405748",
     "status": "completed"
    },
    "tags": []
   },
   "outputs": [],
   "source": [
    "# analysing the dataset using pandas\n",
    "import pandas as pd\n",
    "\n",
    "# Load the dataset\n",
    "file_path = '/kaggle/input/airbnb-toronto-022024/airbnb-listingData-24022024.csv'\n",
    "data = pd.read_csv(file_path)"
   ]
  },
  {
   "cell_type": "markdown",
   "id": "9cda287e",
   "metadata": {
    "papermill": {
     "duration": 0.003743,
     "end_time": "2024-04-30T23:21:17.802454",
     "exception": false,
     "start_time": "2024-04-30T23:21:17.798711",
     "status": "completed"
    },
    "tags": []
   },
   "source": [
    "## Find missing data for the whole set and delete them if not neccesary"
   ]
  },
  {
   "cell_type": "code",
   "execution_count": 2,
   "id": "f64857ad",
   "metadata": {
    "execution": {
     "iopub.execute_input": "2024-04-30T23:21:17.812244Z",
     "iopub.status.busy": "2024-04-30T23:21:17.811838Z",
     "iopub.status.idle": "2024-04-30T23:21:17.913162Z",
     "shell.execute_reply": "2024-04-30T23:21:17.912132Z"
    },
    "papermill": {
     "duration": 0.109273,
     "end_time": "2024-04-30T23:21:17.915710",
     "exception": false,
     "start_time": "2024-04-30T23:21:17.806437",
     "status": "completed"
    },
    "tags": []
   },
   "outputs": [
    {
     "data": {
      "text/plain": [
       "neighbourhood_group_cleansed    100.000000\n",
       "calendar_updated                100.000000\n",
       "host_neighbourhood               58.768783\n",
       "license                          53.645177\n",
       "host_about                       52.840524\n",
       "                                   ...    \n",
       "latitude                          0.000000\n",
       "availability_30                   0.000000\n",
       "availability_60                   0.000000\n",
       "availability_90                   0.000000\n",
       "id                                0.000000\n",
       "Length: 75, dtype: float64"
      ]
     },
     "execution_count": 2,
     "metadata": {},
     "output_type": "execute_result"
    }
   ],
   "source": [
    "# Calculate the percentage of missing data for each column\n",
    "missing_data = data.isnull().mean() * 100\n",
    "missing_data.sort_values(ascending=False)"
   ]
  },
  {
   "cell_type": "markdown",
   "id": "e8f9b2c5",
   "metadata": {
    "papermill": {
     "duration": 0.003794,
     "end_time": "2024-04-30T23:21:17.923829",
     "exception": false,
     "start_time": "2024-04-30T23:21:17.920035",
     "status": "completed"
    },
    "tags": []
   },
   "source": [
    "### Here are some columns in the dataset with significant amounts of missing data:\n",
    "\n",
    "1. neighbourhood_group_cleansed and calendar_updated: Both have 100% missing data, indicating that these fields are either unused or not applicable to this subset of listings.\n",
    "2. host_neighbourhood: Approximately 58.77% missing, suggesting many listings do not specify this detail.\n",
    "3. license: About 53.65% missing, which may reflect varying requirements for a license depending on local regulations or incomplete data entry.\n",
    "4. host_about: Missing in 52.83% of the rows, indicating many hosts have not provided a description of themselves."
   ]
  },
  {
   "cell_type": "markdown",
   "id": "b15dac78",
   "metadata": {
    "papermill": {
     "duration": 0.003678,
     "end_time": "2024-04-30T23:21:17.931664",
     "exception": false,
     "start_time": "2024-04-30T23:21:17.927986",
     "status": "completed"
    },
    "tags": []
   },
   "source": [
    "### Finding coloumns with missing data and list them\n",
    "\n"
   ]
  },
  {
   "cell_type": "code",
   "execution_count": 3,
   "id": "f7aefff1",
   "metadata": {
    "execution": {
     "iopub.execute_input": "2024-04-30T23:21:17.941498Z",
     "iopub.status.busy": "2024-04-30T23:21:17.941137Z",
     "iopub.status.idle": "2024-04-30T23:21:18.028023Z",
     "shell.execute_reply": "2024-04-30T23:21:18.027011Z"
    },
    "papermill": {
     "duration": 0.094763,
     "end_time": "2024-04-30T23:21:18.030544",
     "exception": false,
     "start_time": "2024-04-30T23:21:17.935781",
     "status": "completed"
    },
    "tags": []
   },
   "outputs": [
    {
     "data": {
      "text/plain": [
       "neighbourhood_group_cleansed    100.000000\n",
       "calendar_updated                100.000000\n",
       "host_neighbourhood               58.768783\n",
       "license                          53.645177\n",
       "host_about                       52.840524\n",
       "neighborhood_overview            45.249636\n",
       "neighbourhood                    45.244789\n",
       "host_response_time               33.160446\n",
       "host_response_rate               33.160446\n",
       "review_scores_location           26.345128\n",
       "host_acceptance_rate             26.340281\n",
       "review_scores_communication      26.335434\n",
       "review_scores_checkin            26.335434\n",
       "review_scores_accuracy           26.335434\n",
       "last_review                      26.335434\n",
       "first_review                     26.335434\n",
       "review_scores_value              26.335434\n",
       "reviews_per_month                26.335434\n",
       "review_scores_cleanliness        26.325739\n",
       "review_scores_rating             26.320892\n",
       "price                            25.773146\n",
       "beds                             25.584101\n",
       "bathrooms                        25.458071\n",
       "host_location                    25.235095\n",
       "bedrooms                          8.065923\n",
       "description                       2.263694\n",
       "host_is_superhost                 1.638391\n",
       "has_availability                  0.756180\n",
       "bathrooms_text                    0.033931\n",
       "host_thumbnail_url                0.009695\n",
       "host_name                         0.009695\n",
       "host_since                        0.009695\n",
       "host_identity_verified            0.009695\n",
       "host_picture_url                  0.009695\n",
       "host_has_profile_pic              0.009695\n",
       "host_total_listings_count         0.009695\n",
       "host_verifications                0.009695\n",
       "host_listings_count               0.009695\n",
       "dtype: float64"
      ]
     },
     "execution_count": 3,
     "metadata": {},
     "output_type": "execute_result"
    }
   ],
   "source": [
    "# Find the percentage of missing data for each column and filter out the ones that have any missing data\n",
    "columns_with_missing_data = data.isnull().mean() * 100\n",
    "columns_with_missing_data = columns_with_missing_data[columns_with_missing_data > 0].sort_values(ascending=False)\n",
    "columns_with_missing_data\n"
   ]
  },
  {
   "cell_type": "markdown",
   "id": "fc74370f",
   "metadata": {
    "papermill": {
     "duration": 0.004119,
     "end_time": "2024-04-30T23:21:18.039104",
     "exception": false,
     "start_time": "2024-04-30T23:21:18.034985",
     "status": "completed"
    },
    "tags": []
   },
   "source": [
    "### Delete all coloumns with more then 26% missing data - this is because based on our business objective, we actually dont need them."
   ]
  },
  {
   "cell_type": "code",
   "execution_count": 4,
   "id": "cf2d74e7",
   "metadata": {
    "execution": {
     "iopub.execute_input": "2024-04-30T23:21:18.049078Z",
     "iopub.status.busy": "2024-04-30T23:21:18.048664Z",
     "iopub.status.idle": "2024-04-30T23:21:18.072801Z",
     "shell.execute_reply": "2024-04-30T23:21:18.071810Z"
    },
    "papermill": {
     "duration": 0.031854,
     "end_time": "2024-04-30T23:21:18.075028",
     "exception": false,
     "start_time": "2024-04-30T23:21:18.043174",
     "status": "completed"
    },
    "tags": []
   },
   "outputs": [
    {
     "data": {
      "text/plain": [
       "Index(['id', 'listing_url', 'scrape_id', 'last_scraped', 'source', 'name',\n",
       "       'description', 'neighborhood_overview', 'picture_url', 'host_id',\n",
       "       'host_url', 'host_name', 'host_since', 'host_location', 'host_about',\n",
       "       'host_response_time', 'host_response_rate', 'host_acceptance_rate',\n",
       "       'host_is_superhost', 'host_thumbnail_url', 'host_picture_url',\n",
       "       'host_neighbourhood', 'host_listings_count',\n",
       "       'host_total_listings_count', 'host_verifications',\n",
       "       'host_has_profile_pic', 'host_identity_verified', 'neighbourhood',\n",
       "       'neighbourhood_cleansed', 'neighbourhood_group_cleansed', 'latitude',\n",
       "       'longitude', 'property_type', 'room_type', 'accommodates', 'bathrooms',\n",
       "       'bathrooms_text', 'bedrooms', 'beds', 'amenities', 'price',\n",
       "       'minimum_nights', 'maximum_nights', 'minimum_minimum_nights',\n",
       "       'maximum_minimum_nights', 'minimum_maximum_nights',\n",
       "       'maximum_maximum_nights', 'minimum_nights_avg_ntm',\n",
       "       'maximum_nights_avg_ntm', 'calendar_updated', 'has_availability',\n",
       "       'availability_30', 'availability_60', 'availability_90',\n",
       "       'availability_365', 'calendar_last_scraped', 'number_of_reviews',\n",
       "       'number_of_reviews_ltm', 'number_of_reviews_l30d', 'first_review',\n",
       "       'last_review', 'review_scores_rating', 'review_scores_accuracy',\n",
       "       'review_scores_cleanliness', 'review_scores_checkin',\n",
       "       'review_scores_communication', 'review_scores_location',\n",
       "       'review_scores_value', 'license', 'instant_bookable',\n",
       "       'calculated_host_listings_count',\n",
       "       'calculated_host_listings_count_entire_homes',\n",
       "       'calculated_host_listings_count_private_rooms',\n",
       "       'calculated_host_listings_count_shared_rooms', 'reviews_per_month'],\n",
       "      dtype='object')"
      ]
     },
     "execution_count": 4,
     "metadata": {},
     "output_type": "execute_result"
    }
   ],
   "source": [
    "# Columns with more than 26% missing data\n",
    "columns_to_delete = columns_with_missing_data[columns_with_missing_data > 26].index\n",
    "\n",
    "# Drop these columns from the dataset\n",
    "data_cleaned_further = data.drop(columns=columns_to_delete)\n",
    "\n",
    "data.columns"
   ]
  },
  {
   "cell_type": "code",
   "execution_count": 5,
   "id": "b8b60086",
   "metadata": {
    "execution": {
     "iopub.execute_input": "2024-04-30T23:21:18.085734Z",
     "iopub.status.busy": "2024-04-30T23:21:18.085395Z",
     "iopub.status.idle": "2024-04-30T23:21:20.830629Z",
     "shell.execute_reply": "2024-04-30T23:21:20.829517Z"
    },
    "papermill": {
     "duration": 2.753569,
     "end_time": "2024-04-30T23:21:20.833346",
     "exception": false,
     "start_time": "2024-04-30T23:21:18.079777",
     "status": "completed"
    },
    "tags": []
   },
   "outputs": [
    {
     "name": "stdout",
     "output_type": "stream",
     "text": [
      "The CSV file has been saved successfully at:\n",
      "/kaggle/working/airbnb_listings_cleaned.csv\n"
     ]
    }
   ],
   "source": [
    "# Save the DataFrame to a CSV file\n",
    "data.to_csv('airbnb_listings_cleaned.csv', index=False)\n",
    "\n",
    "# Output the file path to check it\n",
    "print(\"The CSV file has been saved successfully at:\")\n",
    "print('/kaggle/working/airbnb_listings_cleaned.csv')\n"
   ]
  }
 ],
 "metadata": {
  "kaggle": {
   "accelerator": "none",
   "dataSources": [
    {
     "datasetId": 4893157,
     "sourceId": 8247375,
     "sourceType": "datasetVersion"
    }
   ],
   "dockerImageVersionId": 30698,
   "isGpuEnabled": false,
   "isInternetEnabled": true,
   "language": "python",
   "sourceType": "notebook"
  },
  "kernelspec": {
   "display_name": "Python 3",
   "language": "python",
   "name": "python3"
  },
  "language_info": {
   "codemirror_mode": {
    "name": "ipython",
    "version": 3
   },
   "file_extension": ".py",
   "mimetype": "text/x-python",
   "name": "python",
   "nbconvert_exporter": "python",
   "pygments_lexer": "ipython3",
   "version": "3.10.13"
  },
  "papermill": {
   "default_parameters": {},
   "duration": 8.822228,
   "end_time": "2024-04-30T23:21:21.258299",
   "environment_variables": {},
   "exception": null,
   "input_path": "__notebook__.ipynb",
   "output_path": "__notebook__.ipynb",
   "parameters": {},
   "start_time": "2024-04-30T23:21:12.436071",
   "version": "2.5.0"
  }
 },
 "nbformat": 4,
 "nbformat_minor": 5
}
